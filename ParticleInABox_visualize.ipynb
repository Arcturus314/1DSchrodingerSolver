{
 "cells": [
  {
   "cell_type": "code",
   "execution_count": 22,
   "metadata": {},
   "outputs": [
    {
     "data": {
      "image/png": "[encoded data removed]",
      "text/plain": [
       "<Figure size 288x288 with 1 Axes>"
      ]
     },
     "metadata": {},
     "output_type": "display_data"
    }
   ],
   "source": [
    "import matplotlib.pyplot as plt\n",
    "import numpy as np\n",
    "import math\n",
    "\n",
    "fig, ax = plt.subplots(figsize=(4,4))\n",
    "\n",
    "m = 1\n",
    "hbar = 1\n",
    "pi = 3.1415926\n",
    "num_pts = 100\n",
    "energy_scaling_factor = 12\n",
    "\n",
    "well_bounds = [0,1]\n",
    "l = well_bounds[1] - well_bounds[0]\n",
    "\n",
    "def psi(n,x,l):\n",
    "    #print(str(x) + \" \" + str(n*pi*x/l))\n",
    "    return math.sin(n*pi*x/l)\n",
    "\n",
    "def energy(n,m,l):\n",
    "    return n**2 * hbar**2 * pi**2 / (2 * m * l**2)\n",
    "\n",
    "psi_xlist  = np.linspace(0,1,num_pts)\n",
    "\n",
    "psi_nlist  = [1,2,3]\n",
    "linestyles = ['--', '-.', ':']\n",
    "\n",
    "psi_ylists  = []\n",
    "energy_list = []\n",
    "energy_lists = []\n",
    "\n",
    "for n in psi_nlist:\n",
    "    psi_ylists.append([])\n",
    "    energy_lists.append([])\n",
    "    energy_list.append(energy(n,m,l))\n",
    "    for x in psi_xlist:\n",
    "        psi_ylists[-1].append(psi(n, x, l)+energy_list[-1]/energy_scaling_factor)\n",
    "        energy_lists[-1].append(energy_list[-1]/energy_scaling_factor)\n",
    "\n",
    "for n in psi_nlist:\n",
    "    plt.plot(psi_xlist, psi_ylists[n-1], c='black', linestyle=linestyles[n-1])\n",
    "    plt.plot(psi_xlist, energy_lists[n-1], c='black', alpha = 0.3)\n",
    "\n",
    "#plotting well\n",
    "ax.plot([0,l], [0,0], c='black')\n",
    "ax.arrow(0,0,0,max(psi_ylists[-1]),head_width=0.03, head_length=0.1, fc='black')\n",
    "ax.arrow(l,0,0,max(psi_ylists[-1]), head_width=0.03, head_length=0.1, fc='black')\n",
    "ax.text(-0.03,max(psi_ylists[-1])*1.05, \"∞\")\n",
    "ax.text(l-0.03,max(psi_ylists[-1])*1.05, \"∞\")\n",
    "    \n",
    "ax.set_xlim([-0.1,1.1])\n",
    "ax.set_ylim([-0.5, max(psi_ylists[-1])*1.2])\n",
    "ax.set_yticks([])\n",
    "ax.set_xticks([])\n",
    "ax.spines['top'].set_visible(False)\n",
    "ax.spines['right'].set_visible(False)\n",
    "ax.spines['bottom'].set_visible(False)\n",
    "ax.spines['left'].set_visible(False)\n",
    "#ax.set_xlabel(\"x position in well\")\n",
    "#ax.set_ylabel(\"wavefunction offset by energy eigenvalue\")\n",
    "plt.show()\n",
    "    \n",
    "        \n"
   ]
  },
  {
   "cell_type": "code",
   "execution_count": null,
   "metadata": {},
   "outputs": [],
   "source": []
  },
  {
   "cell_type": "code",
   "execution_count": null,
   "metadata": {},
   "outputs": [],
   "source": []
  }
 ],
 "metadata": {
  "kernelspec": {
   "display_name": "Python 3",
   "language": "python",
   "name": "python3"
  },
  "language_info": {
   "codemirror_mode": {
    "name": "ipython",
    "version": 3
   },
   "file_extension": ".py",
   "mimetype": "text/x-python",
   "name": "python",
   "nbconvert_exporter": "python",
   "pygments_lexer": "ipython3",
   "version": "3.6.7"
  }
 },
 "nbformat": 4,
 "nbformat_minor": 2
}
